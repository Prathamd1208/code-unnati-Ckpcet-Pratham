{
 "cells": [
  {
   "cell_type": "markdown",
   "id": "bd970cbe",
   "metadata": {},
   "source": [
    "# Unit 1 Python Fundamentals"
   ]
  },
  {
   "cell_type": "code",
   "execution_count": 7,
   "id": "c6586c63",
   "metadata": {},
   "outputs": [
    {
     "data": {
      "text/plain": [
       "33"
      ]
     },
     "execution_count": 7,
     "metadata": {},
     "output_type": "execute_result"
    }
   ],
   "source": [
    "a=33\n",
    "a"
   ]
  },
  {
   "cell_type": "code",
   "execution_count": 8,
   "id": "c6018a71",
   "metadata": {},
   "outputs": [
    {
     "data": {
      "text/plain": [
       "33"
      ]
     },
     "execution_count": 8,
     "metadata": {},
     "output_type": "execute_result"
    }
   ],
   "source": [
    "a"
   ]
  },
  {
   "cell_type": "code",
   "execution_count": 48,
   "id": "7a8f9900",
   "metadata": {},
   "outputs": [],
   "source": [
    "A=2 #Int\n",
    "B=99.999999999 #Float\n",
    "C= \"Ckpcet\" #String\n",
    "D= True #Bool"
   ]
  },
  {
   "cell_type": "code",
   "execution_count": 15,
   "id": "add96079",
   "metadata": {},
   "outputs": [
    {
     "data": {
      "text/plain": [
       "99.999999999"
      ]
     },
     "execution_count": 15,
     "metadata": {},
     "output_type": "execute_result"
    }
   ],
   "source": [
    "B"
   ]
  },
  {
   "cell_type": "code",
   "execution_count": 12,
   "id": "72958cb1",
   "metadata": {},
   "outputs": [
    {
     "data": {
      "text/plain": [
       "True"
      ]
     },
     "execution_count": 12,
     "metadata": {},
     "output_type": "execute_result"
    }
   ],
   "source": [
    "D"
   ]
  },
  {
   "cell_type": "code",
   "execution_count": 16,
   "id": "95542d56",
   "metadata": {},
   "outputs": [
    {
     "data": {
      "text/plain": [
       "int"
      ]
     },
     "execution_count": 16,
     "metadata": {},
     "output_type": "execute_result"
    }
   ],
   "source": [
    "type(A)"
   ]
  },
  {
   "cell_type": "code",
   "execution_count": 17,
   "id": "a4865b9d",
   "metadata": {},
   "outputs": [
    {
     "data": {
      "text/plain": [
       "float"
      ]
     },
     "execution_count": 17,
     "metadata": {},
     "output_type": "execute_result"
    }
   ],
   "source": [
    "type(B)"
   ]
  },
  {
   "cell_type": "code",
   "execution_count": 23,
   "id": "30b1796b",
   "metadata": {},
   "outputs": [
    {
     "data": {
      "text/plain": [
       "str"
      ]
     },
     "execution_count": 23,
     "metadata": {},
     "output_type": "execute_result"
    }
   ],
   "source": [
    "type(C)"
   ]
  },
  {
   "cell_type": "code",
   "execution_count": 20,
   "id": "041e9d18",
   "metadata": {},
   "outputs": [
    {
     "data": {
      "text/plain": [
       "bool"
      ]
     },
     "execution_count": 20,
     "metadata": {},
     "output_type": "execute_result"
    }
   ],
   "source": [
    "type(D)"
   ]
  },
  {
   "cell_type": "code",
   "execution_count": 24,
   "id": "d77597b6",
   "metadata": {},
   "outputs": [],
   "source": [
    "var1=12\n",
    "var2=12.8\n",
    "var3=\"I am Pratham Dakoria\"\n",
    "var4=True\n",
    "var5=False\n",
    "var6=3.14\n",
    "var7=12082002\n",
    "var8=\"I am in Surat\"\n",
    "var9=False\n",
    "var10=19032002\n",
    "var11=12.2002\n",
    "var12=\"I am mechanical engineer\"\n",
    "var13=\"I am rich\"\n",
    "var14=8140098123\n",
    "var15=21645684.31354532135441"
   ]
  },
  {
   "cell_type": "code",
   "execution_count": 37,
   "id": "1bc72f46",
   "metadata": {},
   "outputs": [
    {
     "data": {
      "text/plain": [
       "21645684.31354532"
      ]
     },
     "execution_count": 37,
     "metadata": {},
     "output_type": "execute_result"
    }
   ],
   "source": [
    "var15"
   ]
  },
  {
   "cell_type": "code",
   "execution_count": 38,
   "id": "14a20006",
   "metadata": {},
   "outputs": [
    {
     "data": {
      "text/plain": [
       "int"
      ]
     },
     "execution_count": 38,
     "metadata": {},
     "output_type": "execute_result"
    }
   ],
   "source": [
    "type(A)"
   ]
  },
  {
   "cell_type": "code",
   "execution_count": 41,
   "id": "c10ba390",
   "metadata": {},
   "outputs": [
    {
     "data": {
      "text/plain": [
       "float"
      ]
     },
     "execution_count": 41,
     "metadata": {},
     "output_type": "execute_result"
    }
   ],
   "source": [
    "type(var2)"
   ]
  },
  {
   "cell_type": "code",
   "execution_count": 40,
   "id": "1a3489e1",
   "metadata": {},
   "outputs": [
    {
     "data": {
      "text/plain": [
       "float"
      ]
     },
     "execution_count": 40,
     "metadata": {},
     "output_type": "execute_result"
    }
   ],
   "source": [
    "type(var15)"
   ]
  },
  {
   "cell_type": "code",
   "execution_count": 42,
   "id": "488efe45",
   "metadata": {},
   "outputs": [],
   "source": [
    "#math operation on Vriables"
   ]
  },
  {
   "cell_type": "code",
   "execution_count": 43,
   "id": "3e068587",
   "metadata": {},
   "outputs": [
    {
     "data": {
      "text/plain": [
       "99.999999999"
      ]
     },
     "execution_count": 43,
     "metadata": {},
     "output_type": "execute_result"
    }
   ],
   "source": [
    "B"
   ]
  },
  {
   "cell_type": "code",
   "execution_count": 46,
   "id": "086e653a",
   "metadata": {},
   "outputs": [
    {
     "data": {
      "text/plain": [
       "0.5600000000056"
      ]
     },
     "execution_count": 46,
     "metadata": {},
     "output_type": "execute_result"
    }
   ],
   "source": [
    "var16=A/B\n",
    "var16"
   ]
  },
  {
   "cell_type": "code",
   "execution_count": 47,
   "id": "4eb428f3",
   "metadata": {},
   "outputs": [
    {
     "data": {
      "text/plain": [
       "155.999999999"
      ]
     },
     "execution_count": 47,
     "metadata": {},
     "output_type": "execute_result"
    }
   ],
   "source": [
    "x=A+B\n",
    "x"
   ]
  },
  {
   "cell_type": "code",
   "execution_count": 51,
   "id": "56302e2f",
   "metadata": {},
   "outputs": [
    {
     "data": {
      "text/plain": [
       "32"
      ]
     },
     "execution_count": 51,
     "metadata": {},
     "output_type": "execute_result"
    }
   ],
   "source": [
    "p=A**5\n",
    "p"
   ]
  },
  {
   "cell_type": "code",
   "execution_count": null,
   "id": "86e9725c",
   "metadata": {},
   "outputs": [],
   "source": [
    "# var17=var1**1000999\n",
    "var17"
   ]
  },
  {
   "cell_type": "code",
   "execution_count": 58,
   "id": "e68c57a4",
   "metadata": {},
   "outputs": [
    {
     "name": "stdout",
     "output_type": "stream",
     "text": [
      "Enter the value of x: 10\n",
      "Enter the value of y: 20\n"
     ]
    }
   ],
   "source": [
    "#use input keyword to take input from user\n",
    "#asks user to enter the value and store it in variable x\n",
    "x=int(input(\"Enter the value of x: \"))\n",
    "#asks user to enter the value and store it in variable y\n",
    "y=int(input(\"Enter the value of y: \"))"
   ]
  },
  {
   "cell_type": "code",
   "execution_count": 61,
   "id": "6f3e14f4",
   "metadata": {},
   "outputs": [
    {
     "data": {
      "text/plain": [
       "10"
      ]
     },
     "execution_count": 61,
     "metadata": {},
     "output_type": "execute_result"
    }
   ],
   "source": [
    "x"
   ]
  },
  {
   "cell_type": "code",
   "execution_count": 62,
   "id": "c2254070",
   "metadata": {},
   "outputs": [
    {
     "data": {
      "text/plain": [
       "20"
      ]
     },
     "execution_count": 62,
     "metadata": {},
     "output_type": "execute_result"
    }
   ],
   "source": [
    "y"
   ]
  },
  {
   "cell_type": "code",
   "execution_count": 63,
   "id": "5ecf3616",
   "metadata": {},
   "outputs": [],
   "source": [
    "z=x*y"
   ]
  },
  {
   "cell_type": "code",
   "execution_count": 64,
   "id": "c0a82616",
   "metadata": {},
   "outputs": [
    {
     "data": {
      "text/plain": [
       "200"
      ]
     },
     "execution_count": 64,
     "metadata": {},
     "output_type": "execute_result"
    }
   ],
   "source": [
    "z"
   ]
  },
  {
   "cell_type": "markdown",
   "id": "2368c81c",
   "metadata": {},
   "source": [
    "# string Concatenation"
   ]
  },
  {
   "cell_type": "code",
   "execution_count": 65,
   "id": "7df5f0a0",
   "metadata": {},
   "outputs": [
    {
     "data": {
      "text/plain": [
       "'c.k.Pithawala'"
      ]
     },
     "execution_count": 65,
     "metadata": {},
     "output_type": "execute_result"
    }
   ],
   "source": [
    "str1=\"c.k.\"\n",
    "str2=\"Pithawala\"\n",
    "str3=str1 + str2\n",
    "str3"
   ]
  },
  {
   "cell_type": "code",
   "execution_count": 68,
   "id": "2fdce3a7",
   "metadata": {},
   "outputs": [
    {
     "data": {
      "text/plain": [
       "'Pratham Ashwinbhai Dakoria'"
      ]
     },
     "execution_count": 68,
     "metadata": {},
     "output_type": "execute_result"
    }
   ],
   "source": [
    "Firstname=\"Pratham \"\n",
    "Middlename=\"Ashwinbhai \"\n",
    "Lastname=\"Dakoria\"\n",
    "Fullname=Firstname + Middlename + Lastname\n",
    "Fullname"
   ]
  },
  {
   "cell_type": "code",
   "execution_count": 69,
   "id": "a6aa4a75",
   "metadata": {},
   "outputs": [
    {
     "name": "stdout",
     "output_type": "stream",
     "text": [
      "26\n"
     ]
    }
   ],
   "source": [
    "print(len(Fullname))"
   ]
  },
  {
   "cell_type": "code",
   "execution_count": 70,
   "id": "c1086600",
   "metadata": {},
   "outputs": [
    {
     "name": "stdout",
     "output_type": "stream",
     "text": [
      "8\n"
     ]
    }
   ],
   "source": [
    "print(len(Firstname))"
   ]
  },
  {
   "cell_type": "markdown",
   "id": "b941c1a0",
   "metadata": {},
   "source": [
    "# string Slicing"
   ]
  },
  {
   "cell_type": "code",
   "execution_count": 71,
   "id": "abd68820",
   "metadata": {},
   "outputs": [
    {
     "data": {
      "text/plain": [
       "'Prat'"
      ]
     },
     "execution_count": 71,
     "metadata": {},
     "output_type": "execute_result"
    }
   ],
   "source": [
    "Fullname[0:4]"
   ]
  },
  {
   "cell_type": "code",
   "execution_count": 72,
   "id": "ea251e9d",
   "metadata": {},
   "outputs": [
    {
     "data": {
      "text/plain": [
       "'am Ashwinbhai D'"
      ]
     },
     "execution_count": 72,
     "metadata": {},
     "output_type": "execute_result"
    }
   ],
   "source": [
    "Fullname[5:20]"
   ]
  },
  {
   "cell_type": "code",
   "execution_count": 73,
   "id": "f98142a7",
   "metadata": {},
   "outputs": [
    {
     "name": "stdout",
     "output_type": "stream",
     "text": [
      "Dakoria\n"
     ]
    }
   ],
   "source": [
    "print(Lastname)"
   ]
  },
  {
   "cell_type": "code",
   "execution_count": 75,
   "id": "75403f09",
   "metadata": {},
   "outputs": [
    {
     "data": {
      "text/plain": [
       "'Dakoria'"
      ]
     },
     "execution_count": 75,
     "metadata": {},
     "output_type": "execute_result"
    }
   ],
   "source": [
    "Fullname[19:26]"
   ]
  },
  {
   "cell_type": "markdown",
   "id": "c77222cb",
   "metadata": {},
   "source": [
    "# Tuples"
   ]
  },
  {
   "cell_type": "code",
   "execution_count": 76,
   "id": "159258f5",
   "metadata": {},
   "outputs": [
    {
     "name": "stdout",
     "output_type": "stream",
     "text": [
      "('parul', 22, 'Bharat', 45.5, 'vadodara', 99)\n",
      "<class 'tuple'>\n"
     ]
    }
   ],
   "source": [
    "tup1 = (\"parul\", 22, \"Bharat\", 45.5, \"vadodara\", 99)\n",
    "\n",
    "print(tup1)\n",
    "print(type(tup1))"
   ]
  },
  {
   "cell_type": "code",
   "execution_count": 77,
   "id": "7f154a2a",
   "metadata": {},
   "outputs": [
    {
     "data": {
      "text/plain": [
       "'vadodara'"
      ]
     },
     "execution_count": 77,
     "metadata": {},
     "output_type": "execute_result"
    }
   ],
   "source": [
    "tup1[4]"
   ]
  },
  {
   "cell_type": "code",
   "execution_count": 78,
   "id": "e24bf668",
   "metadata": {},
   "outputs": [
    {
     "data": {
      "text/plain": [
       "('Bharat', 45.5)"
      ]
     },
     "execution_count": 78,
     "metadata": {},
     "output_type": "execute_result"
    }
   ],
   "source": [
    "tup1[2:4]"
   ]
  },
  {
   "cell_type": "markdown",
   "id": "fcd1e148",
   "metadata": {},
   "source": [
    "# List in python"
   ]
  },
  {
   "cell_type": "code",
   "execution_count": 81,
   "id": "1eb94709",
   "metadata": {},
   "outputs": [
    {
     "name": "stdout",
     "output_type": "stream",
     "text": [
      "['parul', 22, 'Bharat', 45.5, 'vadodara', 99]\n",
      "<class 'list'>\n"
     ]
    }
   ],
   "source": [
    "#create list\n",
    "lst1 = [\"parul\", 22, \"Bharat\", 45.5, \"vadodara\", 99]\n",
    "print(lst1)\n",
    "\n",
    "print(type(lst1))"
   ]
  },
  {
   "cell_type": "code",
   "execution_count": 82,
   "id": "27a9d89b",
   "metadata": {},
   "outputs": [
    {
     "data": {
      "text/plain": [
       "6"
      ]
     },
     "execution_count": 82,
     "metadata": {},
     "output_type": "execute_result"
    }
   ],
   "source": [
    "len(lst1)"
   ]
  },
  {
   "cell_type": "code",
   "execution_count": 84,
   "id": "3ec47a1e",
   "metadata": {},
   "outputs": [],
   "source": [
    "lst1.remove(22)"
   ]
  },
  {
   "cell_type": "code",
   "execution_count": 85,
   "id": "d4b123ae",
   "metadata": {},
   "outputs": [
    {
     "name": "stdout",
     "output_type": "stream",
     "text": [
      "['parul', 'Bharat', 45.5, 'vadodara', 99]\n"
     ]
    }
   ],
   "source": [
    "print(lst1)"
   ]
  },
  {
   "cell_type": "markdown",
   "id": "6933987b",
   "metadata": {},
   "source": [
    "# Dictionary"
   ]
  },
  {
   "cell_type": "code",
   "execution_count": 86,
   "id": "815df976",
   "metadata": {},
   "outputs": [
    {
     "name": "stdout",
     "output_type": "stream",
     "text": [
      "{'University': 'CKP surat', 'course': 'Artificial Inteleegence', 'Branch': 'Electronics'}\n"
     ]
    }
   ],
   "source": [
    "dict1 = {\"University\" : \"CKP surat\", \"course\": \"Artificial Inteleegence\", \"Branch\" : \"Electronics\"}\n",
    "print(dict1)"
   ]
  },
  {
   "cell_type": "code",
   "execution_count": 87,
   "id": "3936b224",
   "metadata": {},
   "outputs": [
    {
     "name": "stdout",
     "output_type": "stream",
     "text": [
      "3\n"
     ]
    },
    {
     "data": {
      "text/plain": [
       "dict"
      ]
     },
     "execution_count": 87,
     "metadata": {},
     "output_type": "execute_result"
    }
   ],
   "source": [
    "print(len(dict1))\n",
    "type(dict1)"
   ]
  },
  {
   "cell_type": "markdown",
   "id": "7f3b1db2",
   "metadata": {},
   "source": [
    "# Python Conditional Statement"
   ]
  },
  {
   "cell_type": "code",
   "execution_count": 92,
   "id": "a43328c6",
   "metadata": {},
   "outputs": [
    {
     "name": "stdout",
     "output_type": "stream",
     "text": [
      "15 is a Positive Number\n",
      "This statement is true\n"
     ]
    }
   ],
   "source": [
    "#If statement\n",
    "\n",
    "num= 15\n",
    "if num > 10:\n",
    "    print(num, \"is a Positive Number\")\n",
    "    print(\"This statement is true\")\n"
   ]
  },
  {
   "cell_type": "code",
   "execution_count": null,
   "id": "d1825424",
   "metadata": {},
   "outputs": [],
   "source": [
    "#if else statement\n",
    "num= -5\n",
    "if"
   ]
  },
  {
   "cell_type": "code",
   "execution_count": null,
   "id": "e3fcdc2e",
   "metadata": {},
   "outputs": [],
   "source": []
  },
  {
   "cell_type": "code",
   "execution_count": null,
   "id": "cedba61d",
   "metadata": {},
   "outputs": [],
   "source": []
  }
 ],
 "metadata": {
  "kernelspec": {
   "display_name": "Python 3 (ipykernel)",
   "language": "python",
   "name": "python3"
  },
  "language_info": {
   "codemirror_mode": {
    "name": "ipython",
    "version": 3
   },
   "file_extension": ".py",
   "mimetype": "text/x-python",
   "name": "python",
   "nbconvert_exporter": "python",
   "pygments_lexer": "ipython3",
   "version": "3.9.12"
  }
 },
 "nbformat": 4,
 "nbformat_minor": 5
}
